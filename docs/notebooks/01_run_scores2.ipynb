{
 "cells": [
  {
   "cell_type": "markdown",
   "metadata": {
    "collapsed": true,
    "pycharm": {
     "name": "#%% md\n"
    }
   },
   "source": [
    "# Run Scores 2\n",
    "*pyscores2* is a python package that helps with running fortran program *Scores2*. \n",
    "The *pyscores2* helps out with the following:\n",
    "1. Load an modify input files to *Scores2*\n",
    "* Run *Scores2*\n",
    "* Load and parse output files from *Scores2*"
   ]
  },
  {
   "cell_type": "markdown",
   "source": [
    "## 1. Load an modify input files to *Scores2*"
   ],
   "metadata": {
    "collapsed": false,
    "pycharm": {
     "name": "#%% md\n",
     "is_executing": true
    }
   }
  },
  {
   "cell_type": "code",
   "execution_count": 1,
   "outputs": [],
   "source": [
    "from pyscores2.indata import Indata\n",
    "import pyscores2.test"
   ],
   "metadata": {
    "collapsed": false,
    "pycharm": {
     "name": "#%%\n",
     "is_executing": false
    }
   }
  },
  {
   "cell_type": "markdown",
   "source": [
    "An input file looks something like this:"
   ],
   "metadata": {
    "collapsed": false,
    "pycharm": {
     "name": "#%% md\n"
    }
   }
  },
  {
   "cell_type": "code",
   "execution_count": 2,
   "outputs": [
    {
     "name": "stdout",
     "text": [
      "Ship indata\n",
      " 1 0 0 0 1 0 0 0 0 120 2 0 0 0 0\n",
      "326.600   1.025     9.80665   332793.0  \n",
      "2.0000    0.1071    22.0000   \n",
      "36.7000   0.8072    22.0000   \n",
      "49.7400   0.8581    22.0000   \n",
      "55.7400   0.9054    22.0000   \n",
      "57.6800   0.9560    22.0000   \n",
      "58.0000   0.9879    22.0000   \n",
      "58.0000   0.9970    22.0000   \n",
      "58.0000   0.9974    22.0000   \n",
      "58.0000   0.9974    22.0000   \n",
      "58.0000   0.9974    22.0000   \n",
      "58.0000   0.9974    22.0000   \n",
      "58.0000   0.9974    22.0000   \n",
      "58.0000   0.9912    22.0000   \n",
      "58.0000   0.9680    22.0000   \n",
      "58.0000   0.9244    22.0000   \n",
      "58.0000   0.8514    22.0000   \n",
      "57.2800   0.7577    22.0000   \n",
      "54.7800   0.6540    22.0000   \n",
      "48.5800   0.5447    22.0000   \n",
      "37.3600   0.3708    22.0000   \n",
      "22.2000   0.6987    5.3900    \n",
      "1.00      15.00     \n",
      "78.38     154.13    \n",
      "         0        10         1\n",
      "1.0       502.9959  125.7490  616169.991 93.2410    8.7456    0.5144\n",
      "0.0850    \n",
      "180.0     360.0     30.0      \n",
      "0\n",
      "-1.0\n",
      "/*\n",
      "//\n",
      "\n"
     ],
     "output_type": "stream"
    }
   ],
   "source": [
    "indata_path = pyscores2.test.indata_path\n",
    "with open(indata_path, mode='r') as file:\n",
    "    print(file.read())"
   ],
   "metadata": {
    "collapsed": false,
    "pycharm": {
     "name": "#%%\n",
     "is_executing": false
    }
   }
  },
  {
   "cell_type": "markdown",
   "source": [
    "And it can be stored in an *Indata* object that looks like:"
   ],
   "metadata": {
    "collapsed": false,
    "pycharm": {
     "name": "#%% md\n"
    }
   }
  },
  {
   "cell_type": "code",
   "execution_count": 3,
   "outputs": [
    {
     "name": "stdout",
     "text": [
      "{ 'accelerationPoints': [],\n",
      "  'bs': [],\n",
      "  'cScores': [],\n",
      "  'displacement': 0.0,\n",
      "  'draught': 0.0,\n",
      "  'g': 9.80665,\n",
      "  'kxx': 0.0,\n",
      "  'kyy': 0.0,\n",
      "  'lcb': 0.0,\n",
      "  'lines': '',\n",
      "  'lpp': 0.0,\n",
      "  'partOfCriticalRollDamping': 0.0,\n",
      "  'projectName': 'New Project',\n",
      "  'rho': 1025.0,\n",
      "  'runOptionTags': [ 'IA',\n",
      "                     'IB',\n",
      "                     'IC',\n",
      "                     'ID',\n",
      "                     'IE',\n",
      "                     'IF',\n",
      "                     'IG',\n",
      "                     'IH',\n",
      "                     'II',\n",
      "                     'IJ',\n",
      "                     'N',\n",
      "                     'IK',\n",
      "                     'IL',\n",
      "                     'IM',\n",
      "                     'NMOT',\n",
      "                     'NMOOR'],\n",
      "  'runOptions': { 'IA': <pyscores2.indata.RunOption object at 0x0A001FB0>,\n",
      "                  'IB': <pyscores2.indata.RunOption object at 0x0A00D050>,\n",
      "                  'IC': <pyscores2.indata.RunOption object at 0x0A00D0B0>,\n",
      "                  'ID': <pyscores2.indata.RunOption object at 0x0A00D110>,\n",
      "                  'IE': <pyscores2.indata.RunOption object at 0x0A00D210>,\n",
      "                  'IF': <pyscores2.indata.RunOption object at 0x0A00D290>,\n",
      "                  'IG': <pyscores2.indata.RunOption object at 0x0A00D2F0>,\n",
      "                  'IH': <pyscores2.indata.RunOption object at 0x0A00D350>,\n",
      "                  'II': <pyscores2.indata.RunOption object at 0x0A00D3B0>,\n",
      "                  'IJ': <pyscores2.indata.RunOption object at 0x0A00D410>,\n",
      "                  'IK': <pyscores2.indata.RunOption object at 0x0A00D490>,\n",
      "                  'IL': <pyscores2.indata.RunOption object at 0x0A00D510>,\n",
      "                  'IM': <pyscores2.indata.RunOption object at 0x0A00D570>,\n",
      "                  'N': <pyscores2.indata.RunOption object at 0x0A00D470>,\n",
      "                  'NMOOR': <pyscores2.indata.RunOption object at 0x0A00D5B0>,\n",
      "                  'NMOT': <pyscores2.indata.RunOption object at 0x0A00D590>},\n",
      "  'speedIncrement': 0.0,\n",
      "  'speedMax': 10.0,\n",
      "  'speedMin': 0.0,\n",
      "  'ts': [],\n",
      "  'waveDirectionIncrement': 30.0,\n",
      "  'waveDirectionMax': 180.0,\n",
      "  'waveDirectionMin': 0.0,\n",
      "  'waveFrequenciesIncrement': 0.05,\n",
      "  'waveFrequenciesMax': 2.0,\n",
      "  'waveFrequenciesMin': 0.2,\n",
      "  'zcg': 0.0}\n"
     ],
     "output_type": "stream"
    }
   ],
   "source": [
    "import pprint\n",
    "pp = pprint.PrettyPrinter(indent=2)\n",
    "\n",
    "indata = Indata()\n",
    "pp.pprint(indata.__dict__)\n"
   ],
   "metadata": {
    "collapsed": false,
    "pycharm": {
     "name": "#%%\n",
     "is_executing": false
    }
   }
  },
  {
   "cell_type": "markdown",
   "source": [
    "You can load indata file into the *Indata* object:"
   ],
   "metadata": {
    "collapsed": false,
    "pycharm": {
     "name": "#%% md\n"
    }
   }
  },
  {
   "cell_type": "code",
   "execution_count": 4,
   "outputs": [
    {
     "name": "stdout",
     "text": [
      "{ 'accelerationPoints': [],\n",
      "  'bs': [ 22.2,\n",
      "          37.36,\n",
      "          48.58,\n",
      "          54.78,\n",
      "          57.28,\n",
      "          58.0,\n",
      "          58.0,\n",
      "          58.0,\n",
      "          58.0,\n",
      "          58.0,\n",
      "          58.0,\n",
      "          58.0,\n",
      "          58.0,\n",
      "          58.0,\n",
      "          58.0,\n",
      "          58.0,\n",
      "          57.68,\n",
      "          55.74,\n",
      "          49.74,\n",
      "          36.7,\n",
      "          2.0],\n",
      "  'cScores': [ 0.6987,\n",
      "               0.3708,\n",
      "               0.5447,\n",
      "               0.654,\n",
      "               0.7577,\n",
      "               0.8514,\n",
      "               0.9244,\n",
      "               0.968,\n",
      "               0.9912,\n",
      "               0.9974,\n",
      "               0.9974,\n",
      "               0.9974,\n",
      "               0.9974,\n",
      "               0.9974,\n",
      "               0.997,\n",
      "               0.9879,\n",
      "               0.956,\n",
      "               0.9054,\n",
      "               0.8581,\n",
      "               0.8072,\n",
      "               0.1071],\n",
      "  'displacement': 332793.0,\n",
      "  'draught': 0.0,\n",
      "  'g': 9.80665,\n",
      "  'indataPath': 'C:\\\\Dev\\\\pyscores2\\\\pyscores2\\\\test\\\\temp.in',\n",
      "  'kxx': 15.0,\n",
      "  'kyy': 78.38,\n",
      "  'lcb': 2.807715860379674,\n",
      "  'lines': [ 'Ship indata\\n',\n",
      "             ' 1 0 0 0 1 0 0 0 0 120 2 0 0 0 0\\n',\n",
      "             '326.600   1.025     9.80665   332793.0  \\n',\n",
      "             '2.0000    0.1071    22.0000   \\n',\n",
      "             '36.7000   0.8072    22.0000   \\n',\n",
      "             '49.7400   0.8581    22.0000   \\n',\n",
      "             '55.7400   0.9054    22.0000   \\n',\n",
      "             '57.6800   0.9560    22.0000   \\n',\n",
      "             '58.0000   0.9879    22.0000   \\n',\n",
      "             '58.0000   0.9970    22.0000   \\n',\n",
      "             '58.0000   0.9974    22.0000   \\n',\n",
      "             '58.0000   0.9974    22.0000   \\n',\n",
      "             '58.0000   0.9974    22.0000   \\n',\n",
      "             '58.0000   0.9974    22.0000   \\n',\n",
      "             '58.0000   0.9974    22.0000   \\n',\n",
      "             '58.0000   0.9912    22.0000   \\n',\n",
      "             '58.0000   0.9680    22.0000   \\n',\n",
      "             '58.0000   0.9244    22.0000   \\n',\n",
      "             '58.0000   0.8514    22.0000   \\n',\n",
      "             '57.2800   0.7577    22.0000   \\n',\n",
      "             '54.7800   0.6540    22.0000   \\n',\n",
      "             '48.5800   0.5447    22.0000   \\n',\n",
      "             '37.3600   0.3708    22.0000   \\n',\n",
      "             '22.2000   0.6987    5.3900    \\n',\n",
      "             '1.00      15.00     \\n',\n",
      "             '78.38     154.13    \\n',\n",
      "             '         0        10         1\\n',\n",
      "             '1.0       502.9959  125.7490  616169.991 93.2410    8.7456    '\n",
      "             '0.5144\\n',\n",
      "             '0.0850    \\n',\n",
      "             '180.0     360.0     30.0      \\n',\n",
      "             '0\\n',\n",
      "             '-1.0\\n',\n",
      "             '/*\\n',\n",
      "             '//\\n'],\n",
      "  'lpp': 326.6,\n",
      "  'partOfCriticalRollDamping': 0.085,\n",
      "  'projectName': 'Ship indata',\n",
      "  'rho': 1025.0,\n",
      "  'runOptionTags': [ 'IA',\n",
      "                     'IB',\n",
      "                     'IC',\n",
      "                     'ID',\n",
      "                     'IE',\n",
      "                     'IF',\n",
      "                     'IG',\n",
      "                     'IH',\n",
      "                     'II',\n",
      "                     'IJ',\n",
      "                     'N',\n",
      "                     'IK',\n",
      "                     'IL',\n",
      "                     'IM',\n",
      "                     'NMOT',\n",
      "                     'NMOOR'],\n",
      "  'runOptions': { 'IA': <pyscores2.indata.RunOption object at 0x0A001FB0>,\n",
      "                  'IB': <pyscores2.indata.RunOption object at 0x0A00D050>,\n",
      "                  'IC': <pyscores2.indata.RunOption object at 0x0A00D0B0>,\n",
      "                  'ID': <pyscores2.indata.RunOption object at 0x0A00D110>,\n",
      "                  'IE': <pyscores2.indata.RunOption object at 0x0A00D210>,\n",
      "                  'IF': <pyscores2.indata.RunOption object at 0x0A00D290>,\n",
      "                  'IG': <pyscores2.indata.RunOption object at 0x0A00D2F0>,\n",
      "                  'IH': <pyscores2.indata.RunOption object at 0x0A00D350>,\n",
      "                  'II': <pyscores2.indata.RunOption object at 0x0A00D3B0>,\n",
      "                  'IJ': <pyscores2.indata.RunOption object at 0x0A00D410>,\n",
      "                  'IK': <pyscores2.indata.RunOption object at 0x0A00D490>,\n",
      "                  'IL': <pyscores2.indata.RunOption object at 0x0A00D510>,\n",
      "                  'IM': <pyscores2.indata.RunOption object at 0x0A00D570>,\n",
      "                  'N': <pyscores2.indata.RunOption object at 0x0A00D470>,\n",
      "                  'NMOOR': <pyscores2.indata.RunOption object at 0x0A00D5B0>,\n",
      "                  'NMOT': <pyscores2.indata.RunOption object at 0x0A00D590>},\n",
      "  'speedIncrement': 0.999913606911447,\n",
      "  'speedMax': 17.00008639308855,\n",
      "  'speedMin': 181.24600431965442,\n",
      "  'ts': [ 5.39,\n",
      "          22.0,\n",
      "          22.0,\n",
      "          22.0,\n",
      "          22.0,\n",
      "          22.0,\n",
      "          22.0,\n",
      "          22.0,\n",
      "          22.0,\n",
      "          22.0,\n",
      "          22.0,\n",
      "          22.0,\n",
      "          22.0,\n",
      "          22.0,\n",
      "          22.0,\n",
      "          22.0,\n",
      "          22.0,\n",
      "          22.0,\n",
      "          22.0,\n",
      "          22.0,\n",
      "          22.0],\n",
      "  'waveDirectionIncrement': 30.0,\n",
      "  'waveDirectionMax': 180.0,\n",
      "  'waveDirectionMin': 0.0,\n",
      "  'waveFrequenciesIncrement': 0.010000000007518434,\n",
      "  'waveFrequenciesMax': 0.6999999386115664,\n",
      "  'waveFrequenciesMin': 0.3500000040973145,\n",
      "  'zcg': 1.0}\n"
     ],
     "output_type": "stream"
    }
   ],
   "source": [
    "indata.open(indata_path)\n",
    "pp.pprint(indata.__dict__)"
   ],
   "metadata": {
    "collapsed": false,
    "pycharm": {
     "name": "#%%\n",
     "is_executing": false
    }
   }
  },
  {
   "cell_type": "markdown",
   "source": [
    "## 2. Run *Scores2*\n",
    "You can use this indata file to run *Scores2*"
   ],
   "metadata": {
    "collapsed": false
   }
  },
  {
   "cell_type": "code",
   "execution_count": 7,
   "outputs": [
    {
     "name": "stdout",
     "text": [
      "Running Scores2 for temp\n"
     ],
     "output_type": "stream"
    }
   ],
   "source": [
    "from pyscores2.runScores2 import Calculation\n",
    "import os\n",
    "outdata_directory='result'\n",
    "if not os.path.exists(outdata_directory):\n",
    "    os.mkdir(outdata_directory)\n",
    "\n",
    "calculation = Calculation(outDataDirectory=outdata_directory)\n",
    "calculation.run(indata_file_path=indata_path)"
   ],
   "metadata": {
    "collapsed": false,
    "pycharm": {
     "name": "#%%\n",
     "is_executing": false
    }
   }
  },
  {
   "cell_type": "markdown",
   "source": [
    "## 3. Load and parse output files from *Scores2*\n",
    "Now we can load the output from the calculation:"
   ],
   "metadata": {
    "collapsed": false
   }
  },
  {
   "cell_type": "code",
   "execution_count": 8,
   "outputs": [
    {
     "name": "stdout",
     "text": [
      "{ 181.0: { 0.0: <pyscores2.output_file_parser.Result object at 0x0DC879F0>,\n",
      "           30.0: <pyscores2.output_file_parser.Result object at 0x0DC879B0>,\n",
      "           60.0: <pyscores2.output_file_parser.Result object at 0x0DC87910>,\n",
      "           90.0: <pyscores2.output_file_parser.Result object at 0x0DC877F0>,\n",
      "           120.0: <pyscores2.output_file_parser.Result object at 0x0DC87530>,\n",
      "           150.0: <pyscores2.output_file_parser.Result object at 0x0DC877B0>,\n",
      "           180.0: <pyscores2.output_file_parser.Result object at 0x0DC875B0>}}\n"
     ],
     "output_type": "stream"
    },
    {
     "name": "stderr",
     "text": [
      "C:\\python35-32\\lib\\re.py:203: FutureWarning: split() requires a non-empty pattern match.\n",
      "  return _compile(pattern, flags).split(string, maxsplit)\n"
     ],
     "output_type": "stream"
    }
   ],
   "source": [
    "from pyscores2.output_file_parser import OutputFile\n",
    "output_file = OutputFile(filePath=calculation.outDataPath)\n",
    "pp.pprint(output_file.results)"
   ],
   "metadata": {
    "collapsed": false,
    "pycharm": {
     "name": "#%%\n",
     "is_executing": false
    }
   }
  },
  {
   "cell_type": "code",
   "execution_count": 9,
   "outputs": [
    {
     "data": {
      "text/plain": "181.24600431965442"
     },
     "metadata": {},
     "output_type": "execute_result",
     "execution_count": 9
    }
   ],
   "source": [
    "indata.speedMin"
   ],
   "metadata": {
    "collapsed": false,
    "pycharm": {
     "name": "#%%\n",
     "is_executing": false
    }
   }
  },
  {
   "cell_type": "code",
   "execution_count": null,
   "outputs": [],
   "source": [
    "\n"
   ],
   "metadata": {
    "collapsed": false,
    "pycharm": {
     "name": "#%%\n"
    }
   }
  }
 ],
 "metadata": {
  "kernelspec": {
   "display_name": "Python 3",
   "language": "python",
   "name": "python3"
  },
  "language_info": {
   "codemirror_mode": {
    "name": "ipython",
    "version": 2
   },
   "file_extension": ".py",
   "mimetype": "text/x-python",
   "name": "python",
   "nbconvert_exporter": "python",
   "pygments_lexer": "ipython2",
   "version": "2.7.6"
  },
  "pycharm": {
   "stem_cell": {
    "cell_type": "raw",
    "source": [],
    "metadata": {
     "collapsed": false
    }
   }
  }
 },
 "nbformat": 4,
 "nbformat_minor": 0
}