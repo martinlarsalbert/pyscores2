{
 "cells": [
  {
   "cell_type": "markdown",
   "metadata": {
    "pycharm": {
     "name": "#%% md\n"
    }
   },
   "source": [
    "# Run Scores 2\n",
    "*pyscores2* is a python package that helps with running fortran program *Scores2*. \n",
    "The *pyscores2* helps out with the following:\n",
    "1. Load an modify input files to *Scores2*\n",
    "* Run *Scores2*\n",
    "* Load and parse output files from *Scores2*"
   ]
  },
  {
   "cell_type": "markdown",
   "metadata": {
    "pycharm": {
     "is_executing": true,
     "name": "#%% md\n"
    }
   },
   "source": [
    "## 1. Load an modify input files to *Scores2*"
   ]
  },
  {
   "cell_type": "code",
   "execution_count": 1,
   "metadata": {
    "collapsed": false,
    "jupyter": {
     "outputs_hidden": false
    },
    "pycharm": {
     "is_executing": false,
     "name": "#%%\n"
    }
   },
   "outputs": [
    {
     "name": "stderr",
     "output_type": "stream",
     "text": [
      "c:\\python35-32\\lib\\site-packages\\matplotlib\\style\\core.py:167: UserWarning: In C:\\Users\\maa\\.matplotlib\\stylelib\\paper.mplstyle: Duplicate key in file \"C:\\Users\\maa\\.matplotlib\\stylelib\\paper.mplstyle\", line #461\n",
      "  styles = read_style_directory(stylelib_path)\n",
      "c:\\python35-32\\lib\\site-packages\\matplotlib\\style\\core.py:167: UserWarning: In C:\\Users\\maa\\.matplotlib\\stylelib\\paper.mplstyle: Duplicate key in file \"C:\\Users\\maa\\.matplotlib\\stylelib\\paper.mplstyle\", line #462\n",
      "  styles = read_style_directory(stylelib_path)\n"
     ]
    }
   ],
   "source": [
    "from pyscores2.indata import Indata\n",
    "import pyscores2.test\n",
    "import pandas as pd\n",
    "import matplotlib.pyplot as plt"
   ]
  },
  {
   "cell_type": "markdown",
   "metadata": {
    "pycharm": {
     "name": "#%% md\n"
    }
   },
   "source": [
    "An input file looks something like this:"
   ]
  },
  {
   "cell_type": "code",
   "execution_count": 2,
   "metadata": {
    "collapsed": false,
    "jupyter": {
     "outputs_hidden": false
    },
    "pycharm": {
     "is_executing": false,
     "name": "#%%\n"
    }
   },
   "outputs": [
    {
     "name": "stdout",
     "output_type": "stream",
     "text": [
      "Ship indata\n",
      " 1 0 0 0 1 0 0 0 0 120 2 0 0 0 0\n",
      "326.600   1.025     9.80665   332793.0  \n",
      "2.0000    0.1071    22.0000   0.00   \n",
      "36.7000   0.8072    22.0000   0.00\n",
      "49.7400   0.8581    22.0000   0.00\n",
      "55.7400   0.9054    22.0000   0.00\n",
      "57.6800   0.9560    22.0000   0.00\n",
      "58.0000   0.9879    22.0000   0.00\n",
      "58.0000   0.9970    22.0000   0.00\n",
      "58.0000   0.9974    22.0000   0.00\n",
      "58.0000   0.9974    22.0000   0.00\n",
      "58.0000   0.9974    22.0000   0.00\n",
      "58.0000   0.9974    22.0000   0.00\n",
      "58.0000   0.9974    22.0000   0.00\n",
      "58.0000   0.9912    22.0000   0.00\n",
      "58.0000   0.9680    22.0000   0.00\n",
      "58.0000   0.9244    22.0000   0.00\n",
      "58.0000   0.8514    22.0000   0.00\n",
      "57.2800   0.7577    22.0000   0.00\n",
      "54.7800   0.6540    22.0000   0.00\n",
      "48.5800   0.5447    22.0000   0.00\n",
      "37.3600   0.3708    22.0000   0.00\n",
      "22.2000   0.6987    5.3900    0.00\n",
      "1.00      15.00     \n",
      "78.38     154.13    \n",
      "         0        10         1\n",
      "1.0       50.00     700.00    50.00      5.000    10.000    5.000\n",
      "0.0850    \n",
      "180.0     360.0     30.0      \n",
      "0\n",
      "-1.0\n",
      "/*\n",
      "//\n",
      "\n"
     ]
    }
   ],
   "source": [
    "indata_path = pyscores2.test.indata_path\n",
    "with open(indata_path, mode='r') as file:\n",
    "    print(file.read())"
   ]
  },
  {
   "cell_type": "markdown",
   "metadata": {
    "pycharm": {
     "name": "#%% md\n"
    }
   },
   "source": [
    "And it can be stored in an *Indata* object that looks like:"
   ]
  },
  {
   "cell_type": "code",
   "execution_count": 3,
   "metadata": {
    "collapsed": false,
    "jupyter": {
     "outputs_hidden": false
    },
    "pycharm": {
     "is_executing": false,
     "name": "#%%\n"
    }
   },
   "outputs": [
    {
     "name": "stdout",
     "output_type": "stream",
     "text": [
      "{ 'accelerationPoints': [],\n",
      "  'bs': [],\n",
      "  'cScores': [],\n",
      "  'displacement': 0.0,\n",
      "  'draught': 0.0,\n",
      "  'g': 9.80665,\n",
      "  'kxx': 0.0,\n",
      "  'kyy': 0.0,\n",
      "  'lcb': 0.0,\n",
      "  'lines': '',\n",
      "  'lpp': 0.0,\n",
      "  'partOfCriticalRollDamping': 0.0,\n",
      "  'projectName': 'New Project',\n",
      "  'rho': 1025.0,\n",
      "  'runOptionTags': [ 'IA',\n",
      "                     'IB',\n",
      "                     'IC',\n",
      "                     'ID',\n",
      "                     'IE',\n",
      "                     'IF',\n",
      "                     'IG',\n",
      "                     'IH',\n",
      "                     'II',\n",
      "                     'IJ',\n",
      "                     'N',\n",
      "                     'IK',\n",
      "                     'IL',\n",
      "                     'IM',\n",
      "                     'NMOT',\n",
      "                     'NMOOR'],\n",
      "  'runOptions': { 'IA': <pyscores2.indata.RunOption object at 0x0C322590>,\n",
      "                  'IB': <pyscores2.indata.RunOption object at 0x0C322610>,\n",
      "                  'IC': <pyscores2.indata.RunOption object at 0x0C322670>,\n",
      "                  'ID': <pyscores2.indata.RunOption object at 0x0C3226D0>,\n",
      "                  'IE': <pyscores2.indata.RunOption object at 0x0C3227D0>,\n",
      "                  'IF': <pyscores2.indata.RunOption object at 0x0C322850>,\n",
      "                  'IG': <pyscores2.indata.RunOption object at 0x0C3228B0>,\n",
      "                  'IH': <pyscores2.indata.RunOption object at 0x0C322910>,\n",
      "                  'II': <pyscores2.indata.RunOption object at 0x0C322970>,\n",
      "                  'IJ': <pyscores2.indata.RunOption object at 0x0C3229D0>,\n",
      "                  'IK': <pyscores2.indata.RunOption object at 0x0C322A50>,\n",
      "                  'IL': <pyscores2.indata.RunOption object at 0x0C322AD0>,\n",
      "                  'IM': <pyscores2.indata.RunOption object at 0x0C322B30>,\n",
      "                  'N': <pyscores2.indata.RunOption object at 0x0C322A30>,\n",
      "                  'NMOOR': <pyscores2.indata.RunOption object at 0x0C322B70>,\n",
      "                  'NMOT': <pyscores2.indata.RunOption object at 0x0C322B50>},\n",
      "  'speedIncrement': 5.0,\n",
      "  'speedMax': 10.0,\n",
      "  'speedMin': 0.0,\n",
      "  'ts': [],\n",
      "  'waveDirectionIncrement': 30.0,\n",
      "  'waveDirectionMax': 180.0,\n",
      "  'waveDirectionMin': 0.0,\n",
      "  'waveFrequenciesIncrement': 0.05,\n",
      "  'waveFrequenciesMax': 2.0,\n",
      "  'waveFrequenciesMin': 0.2,\n",
      "  'zbars': [],\n",
      "  'zcg': 0.0}\n"
     ]
    }
   ],
   "source": [
    "import pprint\n",
    "pp = pprint.PrettyPrinter(indent=2)\n",
    "\n",
    "indata = Indata()\n",
    "pp.pprint(indata.__dict__)\n"
   ]
  },
  {
   "cell_type": "markdown",
   "metadata": {
    "pycharm": {
     "name": "#%% md\n"
    }
   },
   "source": [
    "You can load indata file into the *Indata* object:"
   ]
  },
  {
   "cell_type": "code",
   "execution_count": 4,
   "metadata": {
    "collapsed": false,
    "jupyter": {
     "outputs_hidden": false
    },
    "pycharm": {
     "is_executing": false,
     "name": "#%%\n"
    }
   },
   "outputs": [
    {
     "name": "stdout",
     "output_type": "stream",
     "text": [
      "{ 'accelerationPoints': [],\n",
      "  'bs': array([22.2 , 37.36, 48.58, 54.78, 57.28, 58.  , 58.  , 58.  , 58.  ,\n",
      "       58.  , 58.  , 58.  , 58.  , 58.  , 58.  , 58.  , 57.68, 55.74,\n",
      "       49.74, 36.7 ,  2.  ]),\n",
      "  'cScores': array([0.6987, 0.3708, 0.5447, 0.654 , 0.7577, 0.8514, 0.9244, 0.968 ,\n",
      "       0.9912, 0.9974, 0.9974, 0.9974, 0.9974, 0.9974, 0.997 , 0.9879,\n",
      "       0.956 , 0.9054, 0.8581, 0.8072, 0.1071]),\n",
      "  'displacement': 332793.0,\n",
      "  'draught': 0.0,\n",
      "  'g': 9.80665,\n",
      "  'indataPath': 'c:\\\\dev\\\\pyscores2\\\\pyscores2\\\\test\\\\temp.in',\n",
      "  'kxx': 15.0,\n",
      "  'kyy': 78.38,\n",
      "  'lcb': 9.170000000000016,\n",
      "  'lines': [ 'Ship indata\\n',\n",
      "             ' 1 0 0 0 1 0 0 0 0 120 2 0 0 0 0\\n',\n",
      "             '326.600   1.025     9.80665   332793.0  \\n',\n",
      "             '2.0000    0.1071    22.0000   0.00   \\n',\n",
      "             '36.7000   0.8072    22.0000   0.00\\n',\n",
      "             '49.7400   0.8581    22.0000   0.00\\n',\n",
      "             '55.7400   0.9054    22.0000   0.00\\n',\n",
      "             '57.6800   0.9560    22.0000   0.00\\n',\n",
      "             '58.0000   0.9879    22.0000   0.00\\n',\n",
      "             '58.0000   0.9970    22.0000   0.00\\n',\n",
      "             '58.0000   0.9974    22.0000   0.00\\n',\n",
      "             '58.0000   0.9974    22.0000   0.00\\n',\n",
      "             '58.0000   0.9974    22.0000   0.00\\n',\n",
      "             '58.0000   0.9974    22.0000   0.00\\n',\n",
      "             '58.0000   0.9974    22.0000   0.00\\n',\n",
      "             '58.0000   0.9912    22.0000   0.00\\n',\n",
      "             '58.0000   0.9680    22.0000   0.00\\n',\n",
      "             '58.0000   0.9244    22.0000   0.00\\n',\n",
      "             '58.0000   0.8514    22.0000   0.00\\n',\n",
      "             '57.2800   0.7577    22.0000   0.00\\n',\n",
      "             '54.7800   0.6540    22.0000   0.00\\n',\n",
      "             '48.5800   0.5447    22.0000   0.00\\n',\n",
      "             '37.3600   0.3708    22.0000   0.00\\n',\n",
      "             '22.2000   0.6987    5.3900    0.00\\n',\n",
      "             '1.00      15.00     \\n',\n",
      "             '78.38     154.13    \\n',\n",
      "             '         0        10         1\\n',\n",
      "             '1.0       50.00     700.00    50.00      5.000    10.000    '\n",
      "             '5.000\\n',\n",
      "             '0.0850    \\n',\n",
      "             '180.0     360.0     30.0      \\n',\n",
      "             '0\\n',\n",
      "             '-1.0\\n',\n",
      "             '/*\\n',\n",
      "             '//\\n'],\n",
      "  'lpp': 326.6,\n",
      "  'partOfCriticalRollDamping': 0.085,\n",
      "  'projectName': 'Ship indata',\n",
      "  'rho': 1025.0,\n",
      "  'runOptionTags': [ 'IA',\n",
      "                     'IB',\n",
      "                     'IC',\n",
      "                     'ID',\n",
      "                     'IE',\n",
      "                     'IF',\n",
      "                     'IG',\n",
      "                     'IH',\n",
      "                     'II',\n",
      "                     'IJ',\n",
      "                     'N',\n",
      "                     'IK',\n",
      "                     'IL',\n",
      "                     'IM',\n",
      "                     'NMOT',\n",
      "                     'NMOOR'],\n",
      "  'runOptions': { 'IA': <pyscores2.indata.RunOption object at 0x0C322590>,\n",
      "                  'IB': <pyscores2.indata.RunOption object at 0x0C322610>,\n",
      "                  'IC': <pyscores2.indata.RunOption object at 0x0C322670>,\n",
      "                  'ID': <pyscores2.indata.RunOption object at 0x0C3226D0>,\n",
      "                  'IE': <pyscores2.indata.RunOption object at 0x0C3227D0>,\n",
      "                  'IF': <pyscores2.indata.RunOption object at 0x0C322850>,\n",
      "                  'IG': <pyscores2.indata.RunOption object at 0x0C3228B0>,\n",
      "                  'IH': <pyscores2.indata.RunOption object at 0x0C322910>,\n",
      "                  'II': <pyscores2.indata.RunOption object at 0x0C322970>,\n",
      "                  'IJ': <pyscores2.indata.RunOption object at 0x0C3229D0>,\n",
      "                  'IK': <pyscores2.indata.RunOption object at 0x0C322A50>,\n",
      "                  'IL': <pyscores2.indata.RunOption object at 0x0C322AD0>,\n",
      "                  'IM': <pyscores2.indata.RunOption object at 0x0C322B30>,\n",
      "                  'N': <pyscores2.indata.RunOption object at 0x0C322A30>,\n",
      "                  'NMOOR': <pyscores2.indata.RunOption object at 0x0C322B70>,\n",
      "                  'NMOT': <pyscores2.indata.RunOption object at 0x0C322B50>},\n",
      "  'speedIncrement': 9.719222462203023,\n",
      "  'speedMax': 19.438444924406046,\n",
      "  'speedMin': 9.719222462203023,\n",
      "  'ts': array([ 5.39, 22.  , 22.  , 22.  , 22.  , 22.  , 22.  , 22.  , 22.  ,\n",
      "       22.  , 22.  , 22.  , 22.  , 22.  , 22.  , 22.  , 22.  , 22.  ,\n",
      "       22.  , 22.  , 22.  ]),\n",
      "  'waveDirectionIncrement': 30.0,\n",
      "  'waveDirectionMax': 360.0,\n",
      "  'waveDirectionMin': 180.0,\n",
      "  'waveFrequenciesIncrement': 1.1101080955713518,\n",
      "  'waveFrequenciesMax': 0.2966888682794358,\n",
      "  'waveFrequenciesMin': 1.1101080955713518,\n",
      "  'zbars': array([0., 0., 0., 0., 0., 0., 0., 0., 0., 0., 0., 0., 0., 0., 0., 0., 0.,\n",
      "       0., 0., 0., 0.]),\n",
      "  'zcg': 1.0}\n"
     ]
    }
   ],
   "source": [
    "indata.open(indata_path)\n",
    "pp.pprint(indata.__dict__)"
   ]
  },
  {
   "cell_type": "markdown",
   "metadata": {},
   "source": [
    "## 2. Run *Scores2*\n",
    "You can use this indata file to run *Scores2*"
   ]
  },
  {
   "cell_type": "code",
   "execution_count": 5,
   "metadata": {
    "collapsed": false,
    "jupyter": {
     "outputs_hidden": false
    },
    "pycharm": {
     "is_executing": false,
     "name": "#%%\n"
    }
   },
   "outputs": [
    {
     "name": "stdout",
     "output_type": "stream",
     "text": [
      "Running Scores2 for temp\n"
     ]
    },
    {
     "name": "stderr",
     "output_type": "stream",
     "text": [
      "c:\\python35-32\\lib\\re.py:203: FutureWarning: split() requires a non-empty pattern match.\n",
      "  return _compile(pattern, flags).split(string, maxsplit)\n"
     ]
    }
   ],
   "source": [
    "from pyscores2.runScores2 import Calculation\n",
    "import os\n",
    "outdata_directory='result'\n",
    "if not os.path.exists(outdata_directory):\n",
    "    os.mkdir(outdata_directory)\n",
    "\n",
    "calculation = Calculation(outDataDirectory=outdata_directory)\n",
    "calculation.run(indata_file_path=indata_path)"
   ]
  },
  {
   "cell_type": "markdown",
   "metadata": {},
   "source": [
    "## 3. Load and parse output files from *Scores2*\n",
    "Now we can load the output from the calculation:"
   ]
  },
  {
   "cell_type": "code",
   "execution_count": 6,
   "metadata": {
    "collapsed": false,
    "jupyter": {
     "outputs_hidden": false
    },
    "pycharm": {
     "is_executing": false,
     "name": "#%%\n"
    }
   },
   "outputs": [
    {
     "name": "stdout",
     "output_type": "stream",
     "text": [
      "{ 10.0: { 180.0: <pyscores2.result.Result object at 0x0C322FF0>,\n",
      "          210.0: <pyscores2.result.Result object at 0x0C322090>,\n",
      "          240.0: <pyscores2.result.Result object at 0x0C322FD0>,\n",
      "          270.0: <pyscores2.result.Result object at 0x0C347AD0>,\n",
      "          300.0: <pyscores2.result.Result object at 0x119621B0>,\n",
      "          330.0: <pyscores2.result.Result object at 0x11962270>,\n",
      "          360.0: <pyscores2.result.Result object at 0x11962090>},\n",
      "  19.0: { 180.0: <pyscores2.result.Result object at 0x119620D0>,\n",
      "          210.0: <pyscores2.result.Result object at 0x119624D0>,\n",
      "          240.0: <pyscores2.result.Result object at 0x11962570>,\n",
      "          270.0: <pyscores2.result.Result object at 0x11962510>,\n",
      "          300.0: <pyscores2.result.Result object at 0x119623F0>,\n",
      "          330.0: <pyscores2.result.Result object at 0x11962390>,\n",
      "          360.0: <pyscores2.result.Result object at 0x11962110>}}\n"
     ]
    }
   ],
   "source": [
    "from pyscores2.output import OutputFile\n",
    "output_file = OutputFile(filePath=calculation.outDataPath)\n",
    "pp.pprint(output_file.results)"
   ]
  },
  {
   "cell_type": "markdown",
   "metadata": {
    "pycharm": {
     "is_executing": false,
     "name": "#%% md\n"
    }
   },
   "source": [
    "We can load some of the results into a Pandas DataFrame:"
   ]
  },
  {
   "cell_type": "code",
   "execution_count": 7,
   "metadata": {
    "collapsed": false,
    "jupyter": {
     "outputs_hidden": false
    },
    "pycharm": {
     "is_executing": false,
     "name": "#%%\n"
    }
   },
   "outputs": [
    {
     "data": {
      "image/png": "[encoded data removed]",
      "text/plain": [
       "<Figure size 432x288 with 1 Axes>"
      ]
     },
     "metadata": {
      "needs_background": "light"
     },
     "output_type": "display_data"
    }
   ],
   "source": [
    "speed = 10.0\n",
    "result_speed = output_file.results[speed]\n",
    "result_180 = result_speed[180]\n",
    "vertical_plane_responses= result_180.verticalPlaneResponses\n",
    "df=pd.DataFrame(data=vertical_plane_responses.__dict__)\n",
    "df.set_index('frequencies', inplace=True)\n",
    "df.head()\n",
    "\n",
    "fig,ax=plt.subplots()\n",
    "df.plot(y='heaveAmplitude', style='o-', ax=ax)\n",
    "ax.grid(True)"
   ]
  },
  {
   "cell_type": "markdown",
   "metadata": {
    "pycharm": {
     "is_executing": false,
     "name": "#%% md\n"
    }
   },
   "source": [
    "But this can also be done automatically for all speeds and wave directions:"
   ]
  },
  {
   "cell_type": "code",
   "execution_count": 8,
   "metadata": {
    "collapsed": false,
    "jupyter": {
     "outputs_hidden": false
    },
    "pycharm": {
     "is_executing": false,
     "name": "#%%\n"
    }
   },
   "outputs": [
    {
     "name": "stderr",
     "output_type": "stream",
     "text": [
      "c:\\python35-32\\lib\\site-packages\\pandas\\core\\frame.py:7123: FutureWarning: Sorting because non-concatenation axis is not aligned. A future version\n",
      "of pandas will change to not sort by default.\n",
      "\n",
      "To accept the future behavior, pass 'sort=False'.\n",
      "\n",
      "To retain the current behavior and silence the warning, pass 'sort=True'.\n",
      "\n",
      "  sort=sort,\n"
     ]
    },
    {
     "data": {
      "image/png": "[encoded data removed]",
      "text/plain": [
       "<Figure size 432x288 with 1 Axes>"
      ]
     },
     "metadata": {
      "needs_background": "light"
     },
     "output_type": "display_data"
    }
   ],
   "source": [
    "df = output_file.get_result()\n",
    "\n",
    "fig,ax=plt.subplots()\n",
    "for index, group in df.groupby(by=['speed','wave direction']):\n",
    "    group.plot(x='frequencies', y='heaveAmplitude', style='o-', label=index, ax=ax)\n",
    "    \n",
    "ax.grid(True)\n",
    "ax.legend();\n",
    "ax.set_ylabel('Heave');"
   ]
  },
  {
   "cell_type": "markdown",
   "metadata": {
    "pycharm": {
     "is_executing": false,
     "name": "#%% md\n"
    }
   },
   "source": [
    "It is also possible to get the roll damping:"
   ]
  },
  {
   "cell_type": "code",
   "execution_count": 9,
   "metadata": {
    "collapsed": false,
    "jupyter": {
     "outputs_hidden": false
    },
    "pycharm": {
     "is_executing": false,
     "name": "#%%\n"
    }
   },
   "outputs": [
    {
     "data": {
      "text/html": [
       "<div>\n",
       "<style scoped>\n",
       "    .dataframe tbody tr th:only-of-type {\n",
       "        vertical-align: middle;\n",
       "    }\n",
       "\n",
       "    .dataframe tbody tr th {\n",
       "        vertical-align: top;\n",
       "    }\n",
       "\n",
       "    .dataframe thead th {\n",
       "        text-align: right;\n",
       "    }\n",
       "</style>\n",
       "<table border=\"1\" class=\"dataframe\">\n",
       "  <thead>\n",
       "    <tr style=\"text-align: right;\">\n",
       "      <th></th>\n",
       "      <th>calculated_wave_damping_in_roll</th>\n",
       "      <th>critical_wave_damping_in_roll</th>\n",
       "      <th>natural_roll_frequency</th>\n",
       "      <th>roll_damping_ratio</th>\n",
       "      <th>speed</th>\n",
       "      <th>wave_direction</th>\n",
       "    </tr>\n",
       "  </thead>\n",
       "  <tbody>\n",
       "    <tr>\n",
       "      <td>0</td>\n",
       "      <td>3264.0</td>\n",
       "      <td>5052000.0</td>\n",
       "      <td>0.24734</td>\n",
       "      <td>0.040500</td>\n",
       "      <td>10.0</td>\n",
       "      <td>240.0</td>\n",
       "    </tr>\n",
       "    <tr>\n",
       "      <td>1</td>\n",
       "      <td>3264.0</td>\n",
       "      <td>5052000.0</td>\n",
       "      <td>0.24734</td>\n",
       "      <td>0.021220</td>\n",
       "      <td>10.0</td>\n",
       "      <td>210.0</td>\n",
       "    </tr>\n",
       "    <tr>\n",
       "      <td>2</td>\n",
       "      <td>3264.0</td>\n",
       "      <td>5052000.0</td>\n",
       "      <td>0.24734</td>\n",
       "      <td>0.006722</td>\n",
       "      <td>10.0</td>\n",
       "      <td>180.0</td>\n",
       "    </tr>\n",
       "    <tr>\n",
       "      <td>3</td>\n",
       "      <td>NaN</td>\n",
       "      <td>NaN</td>\n",
       "      <td>NaN</td>\n",
       "      <td>NaN</td>\n",
       "      <td>10.0</td>\n",
       "      <td>360.0</td>\n",
       "    </tr>\n",
       "    <tr>\n",
       "      <td>4</td>\n",
       "      <td>NaN</td>\n",
       "      <td>NaN</td>\n",
       "      <td>NaN</td>\n",
       "      <td>NaN</td>\n",
       "      <td>10.0</td>\n",
       "      <td>330.0</td>\n",
       "    </tr>\n",
       "    <tr>\n",
       "      <td>5</td>\n",
       "      <td>3264.0</td>\n",
       "      <td>5052000.0</td>\n",
       "      <td>0.24734</td>\n",
       "      <td>0.006875</td>\n",
       "      <td>10.0</td>\n",
       "      <td>300.0</td>\n",
       "    </tr>\n",
       "    <tr>\n",
       "      <td>6</td>\n",
       "      <td>3264.0</td>\n",
       "      <td>5052000.0</td>\n",
       "      <td>0.24734</td>\n",
       "      <td>0.020810</td>\n",
       "      <td>10.0</td>\n",
       "      <td>270.0</td>\n",
       "    </tr>\n",
       "    <tr>\n",
       "      <td>7</td>\n",
       "      <td>3264.0</td>\n",
       "      <td>5052000.0</td>\n",
       "      <td>0.24734</td>\n",
       "      <td>0.039530</td>\n",
       "      <td>19.0</td>\n",
       "      <td>240.0</td>\n",
       "    </tr>\n",
       "    <tr>\n",
       "      <td>8</td>\n",
       "      <td>3264.0</td>\n",
       "      <td>5052000.0</td>\n",
       "      <td>0.24734</td>\n",
       "      <td>0.009088</td>\n",
       "      <td>19.0</td>\n",
       "      <td>210.0</td>\n",
       "    </tr>\n",
       "    <tr>\n",
       "      <td>9</td>\n",
       "      <td>3264.0</td>\n",
       "      <td>5052000.0</td>\n",
       "      <td>0.24734</td>\n",
       "      <td>0.002214</td>\n",
       "      <td>19.0</td>\n",
       "      <td>180.0</td>\n",
       "    </tr>\n",
       "    <tr>\n",
       "      <td>10</td>\n",
       "      <td>NaN</td>\n",
       "      <td>NaN</td>\n",
       "      <td>NaN</td>\n",
       "      <td>NaN</td>\n",
       "      <td>19.0</td>\n",
       "      <td>360.0</td>\n",
       "    </tr>\n",
       "    <tr>\n",
       "      <td>11</td>\n",
       "      <td>NaN</td>\n",
       "      <td>NaN</td>\n",
       "      <td>NaN</td>\n",
       "      <td>NaN</td>\n",
       "      <td>19.0</td>\n",
       "      <td>330.0</td>\n",
       "    </tr>\n",
       "    <tr>\n",
       "      <td>12</td>\n",
       "      <td>3264.0</td>\n",
       "      <td>5052000.0</td>\n",
       "      <td>0.24734</td>\n",
       "      <td>0.002155</td>\n",
       "      <td>19.0</td>\n",
       "      <td>300.0</td>\n",
       "    </tr>\n",
       "    <tr>\n",
       "      <td>13</td>\n",
       "      <td>3264.0</td>\n",
       "      <td>5052000.0</td>\n",
       "      <td>0.24734</td>\n",
       "      <td>0.010570</td>\n",
       "      <td>19.0</td>\n",
       "      <td>270.0</td>\n",
       "    </tr>\n",
       "  </tbody>\n",
       "</table>\n",
       "</div>"
      ],
      "text/plain": [
       "    calculated_wave_damping_in_roll  critical_wave_damping_in_roll  \\\n",
       "0                            3264.0                      5052000.0   \n",
       "1                            3264.0                      5052000.0   \n",
       "2                            3264.0                      5052000.0   \n",
       "3                               NaN                            NaN   \n",
       "4                               NaN                            NaN   \n",
       "5                            3264.0                      5052000.0   \n",
       "6                            3264.0                      5052000.0   \n",
       "7                            3264.0                      5052000.0   \n",
       "8                            3264.0                      5052000.0   \n",
       "9                            3264.0                      5052000.0   \n",
       "10                              NaN                            NaN   \n",
       "11                              NaN                            NaN   \n",
       "12                           3264.0                      5052000.0   \n",
       "13                           3264.0                      5052000.0   \n",
       "\n",
       "    natural_roll_frequency  roll_damping_ratio  speed  wave_direction  \n",
       "0                  0.24734            0.040500   10.0           240.0  \n",
       "1                  0.24734            0.021220   10.0           210.0  \n",
       "2                  0.24734            0.006722   10.0           180.0  \n",
       "3                      NaN                 NaN   10.0           360.0  \n",
       "4                      NaN                 NaN   10.0           330.0  \n",
       "5                  0.24734            0.006875   10.0           300.0  \n",
       "6                  0.24734            0.020810   10.0           270.0  \n",
       "7                  0.24734            0.039530   19.0           240.0  \n",
       "8                  0.24734            0.009088   19.0           210.0  \n",
       "9                  0.24734            0.002214   19.0           180.0  \n",
       "10                     NaN                 NaN   19.0           360.0  \n",
       "11                     NaN                 NaN   19.0           330.0  \n",
       "12                 0.24734            0.002155   19.0           300.0  \n",
       "13                 0.24734            0.010570   19.0           270.0  "
      ]
     },
     "execution_count": 9,
     "metadata": {},
     "output_type": "execute_result"
    }
   ],
   "source": [
    "df_roll_damping = output_file.get_roll_damping()\n",
    "df_roll_damping\n"
   ]
  },
  {
   "cell_type": "code",
   "execution_count": null,
   "metadata": {
    "collapsed": false,
    "jupyter": {
     "outputs_hidden": false
    },
    "pycharm": {
     "is_executing": false,
     "name": "#%%\n"
    }
   },
   "outputs": [],
   "source": [
    "\n"
   ]
  }
 ],
 "metadata": {
  "kernelspec": {
   "display_name": "Python 3",
   "language": "python",
   "name": "python3"
  },
  "language_info": {
   "codemirror_mode": {
    "name": "ipython",
    "version": 3
   },
   "file_extension": ".py",
   "mimetype": "text/x-python",
   "name": "python",
   "nbconvert_exporter": "python",
   "pygments_lexer": "ipython3",
   "version": "3.5.4"
  },
  "pycharm": {
   "stem_cell": {
    "cell_type": "raw",
    "metadata": {
     "collapsed": false
    },
    "source": []
   }
  }
 },
 "nbformat": 4,
 "nbformat_minor": 4
}
