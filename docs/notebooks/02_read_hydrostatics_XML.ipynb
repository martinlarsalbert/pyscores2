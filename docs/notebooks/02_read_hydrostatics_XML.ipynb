{
 "cells": [
  {
   "cell_type": "markdown",
   "metadata": {},
   "source": [
    "# Read hydrostatics.xml"
   ]
  },
  {
   "cell_type": "code",
   "execution_count": 1,
   "metadata": {},
   "outputs": [],
   "source": [
    "from pyscores2 import xml_hydrostatics\n",
    "import os.path\n",
    "import pyscores2.test"
   ]
  },
  {
   "cell_type": "code",
   "execution_count": 2,
   "metadata": {},
   "outputs": [],
   "source": [
    "file_path = os.path.join(pyscores2.test.path,'hydrostatics.xml')\n",
    "xml_parser = xml_hydrostatics.Parser(fileName=file_path)\n",
    "conditions = list(xml_parser.conditions.keys())\n"
   ]
  },
  {
   "cell_type": "code",
   "execution_count": 10,
   "metadata": {},
   "outputs": [],
   "source": [
    "condition = xml_parser.conditions['Design']"
   ]
  },
  {
   "cell_type": "code",
   "execution_count": 11,
   "metadata": {},
   "outputs": [
    {
     "data": {
      "text/plain": [
       "['B',\n",
       " 'Displacement',\n",
       " 'LCB',\n",
       " 'LCBproc',\n",
       " 'Name',\n",
       " 'TA',\n",
       " 'TF',\n",
       " '__class__',\n",
       " '__delattr__',\n",
       " '__dict__',\n",
       " '__dir__',\n",
       " '__doc__',\n",
       " '__eq__',\n",
       " '__format__',\n",
       " '__ge__',\n",
       " '__getattribute__',\n",
       " '__gt__',\n",
       " '__hash__',\n",
       " '__init__',\n",
       " '__le__',\n",
       " '__lt__',\n",
       " '__module__',\n",
       " '__ne__',\n",
       " '__new__',\n",
       " '__reduce__',\n",
       " '__reduce_ex__',\n",
       " '__repr__',\n",
       " '__setattr__',\n",
       " '__sizeof__',\n",
       " '__str__',\n",
       " '__subclasshook__',\n",
       " '__weakref__',\n",
       " 'sections']"
      ]
     },
     "execution_count": 11,
     "metadata": {},
     "output_type": "execute_result"
    }
   ],
   "source": [
    "dir(condition)"
   ]
  },
  {
   "cell_type": "code",
   "execution_count": 12,
   "metadata": {},
   "outputs": [
    {
     "data": {
      "text/plain": [
       "[<pyscores2.xml_hydrostatics.Section at 0xa454190>,\n",
       " <pyscores2.xml_hydrostatics.Section at 0xa454630>,\n",
       " <pyscores2.xml_hydrostatics.Section at 0xa4543b0>,\n",
       " <pyscores2.xml_hydrostatics.Section at 0xa454770>,\n",
       " <pyscores2.xml_hydrostatics.Section at 0xa4541d0>,\n",
       " <pyscores2.xml_hydrostatics.Section at 0xa4540b0>,\n",
       " <pyscores2.xml_hydrostatics.Section at 0xa454510>,\n",
       " <pyscores2.xml_hydrostatics.Section at 0xa4544b0>,\n",
       " <pyscores2.xml_hydrostatics.Section at 0xa454230>,\n",
       " <pyscores2.xml_hydrostatics.Section at 0xa44af90>,\n",
       " <pyscores2.xml_hydrostatics.Section at 0xa44ae50>,\n",
       " <pyscores2.xml_hydrostatics.Section at 0xa44aeb0>,\n",
       " <pyscores2.xml_hydrostatics.Section at 0xa44afd0>,\n",
       " <pyscores2.xml_hydrostatics.Section at 0xa44af30>,\n",
       " <pyscores2.xml_hydrostatics.Section at 0xa44ae30>,\n",
       " <pyscores2.xml_hydrostatics.Section at 0xa44ae10>,\n",
       " <pyscores2.xml_hydrostatics.Section at 0xa44af10>,\n",
       " <pyscores2.xml_hydrostatics.Section at 0xa44ae90>,\n",
       " <pyscores2.xml_hydrostatics.Section at 0x63a84d0>,\n",
       " <pyscores2.xml_hydrostatics.Section at 0x63a8230>,\n",
       " <pyscores2.xml_hydrostatics.Section at 0x63a8210>]"
      ]
     },
     "execution_count": 12,
     "metadata": {},
     "output_type": "execute_result"
    }
   ],
   "source": [
    "condition.sections"
   ]
  },
  {
   "cell_type": "code",
   "execution_count": 13,
   "metadata": {},
   "outputs": [],
   "source": [
    "section = condition.sections[0]"
   ]
  },
  {
   "cell_type": "code",
   "execution_count": 15,
   "metadata": {},
   "outputs": [
    {
     "data": {
      "text/plain": [
       "['Area',\n",
       " 'BeamWaterline',\n",
       " 'CentroidZ',\n",
       " 'Draught',\n",
       " 'Index',\n",
       " 'XPosition',\n",
       " '__class__',\n",
       " '__delattr__',\n",
       " '__dict__',\n",
       " '__dir__',\n",
       " '__doc__',\n",
       " '__eq__',\n",
       " '__format__',\n",
       " '__ge__',\n",
       " '__getattribute__',\n",
       " '__gt__',\n",
       " '__hash__',\n",
       " '__init__',\n",
       " '__le__',\n",
       " '__lt__',\n",
       " '__module__',\n",
       " '__ne__',\n",
       " '__new__',\n",
       " '__reduce__',\n",
       " '__reduce_ex__',\n",
       " '__repr__',\n",
       " '__setattr__',\n",
       " '__sizeof__',\n",
       " '__str__',\n",
       " '__subclasshook__',\n",
       " '__weakref__']"
      ]
     },
     "execution_count": 15,
     "metadata": {},
     "output_type": "execute_result"
    }
   ],
   "source": [
    "dir(section)"
   ]
  },
  {
   "cell_type": "code",
   "execution_count": null,
   "metadata": {},
   "outputs": [],
   "source": []
  }
 ],
 "metadata": {
  "kernelspec": {
   "display_name": "Python 3",
   "language": "python",
   "name": "python3"
  },
  "language_info": {
   "codemirror_mode": {
    "name": "ipython",
    "version": 3
   },
   "file_extension": ".py",
   "mimetype": "text/x-python",
   "name": "python",
   "nbconvert_exporter": "python",
   "pygments_lexer": "ipython3",
   "version": "3.5.4"
  }
 },
 "nbformat": 4,
 "nbformat_minor": 4
}
